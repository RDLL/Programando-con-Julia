{
 "cells": [
  {
   "cell_type": "markdown",
   "id": "000f7763",
   "metadata": {},
   "source": [
    "En Julia contamos con una colección de datos llamada tupla, la cuál puede contener todo tipo de valor pero es inmutable, una vez creada no se puede modificar.\n",
    "Se puede trabajar con ellas a tráves de sus indices."
   ]
  },
  {
   "cell_type": "code",
   "execution_count": 1,
   "id": "b56b6abd",
   "metadata": {},
   "outputs": [
    {
     "data": {
      "text/plain": [
       "(23, 'a', 3.2, \"Hola\")"
      ]
     },
     "execution_count": 1,
     "metadata": {},
     "output_type": "execute_result"
    }
   ],
   "source": [
    "(23,'a',3.2,\"Hola\")"
   ]
  },
  {
   "cell_type": "code",
   "execution_count": 11,
   "id": "bccf6834",
   "metadata": {},
   "outputs": [
    {
     "data": {
      "text/plain": [
       "(0, 'a')"
      ]
     },
     "execution_count": 11,
     "metadata": {},
     "output_type": "execute_result"
    }
   ],
   "source": [
    "∅=0,'a'"
   ]
  },
  {
   "cell_type": "code",
   "execution_count": 53,
   "id": "99f9210b",
   "metadata": {},
   "outputs": [
    {
     "data": {
      "text/plain": [
       "('h', 'o', 'l', 'a')"
      ]
     },
     "execution_count": 53,
     "metadata": {},
     "output_type": "execute_result"
    }
   ],
   "source": [
    "s = ('h','o','l','a')"
   ]
  },
  {
   "cell_type": "code",
   "execution_count": 54,
   "id": "c15f34df",
   "metadata": {},
   "outputs": [
    {
     "data": {
      "text/plain": [
       "'l': ASCII/Unicode U+006C (category Ll: Letter, lowercase)"
      ]
     },
     "execution_count": 54,
     "metadata": {},
     "output_type": "execute_result"
    }
   ],
   "source": [
    "s[3]"
   ]
  },
  {
   "cell_type": "markdown",
   "id": "722b4600",
   "metadata": {},
   "source": [
    "Se pueden hacer operaciones con ellas (tipos numericos)"
   ]
  },
  {
   "cell_type": "code",
   "execution_count": 21,
   "id": "4d18f64f",
   "metadata": {},
   "outputs": [
    {
     "data": {
      "text/plain": [
       "(7, 12, 8)"
      ]
     },
     "execution_count": 21,
     "metadata": {},
     "output_type": "execute_result"
    }
   ],
   "source": [
    "(2,5,6).+(5,7,2)"
   ]
  },
  {
   "cell_type": "code",
   "execution_count": 25,
   "id": "c7f13c2d",
   "metadata": {},
   "outputs": [
    {
     "data": {
      "text/plain": [
       "(10, 35, 12)"
      ]
     },
     "execution_count": 25,
     "metadata": {},
     "output_type": "execute_result"
    }
   ],
   "source": [
    "(2,5,6).*(5,7,2)"
   ]
  },
  {
   "cell_type": "markdown",
   "id": "710370ed",
   "metadata": {},
   "source": [
    "Hay algo llamdo tuples con nombres, esto quiere decir que a cada elemento de la tupla le asignamos un identificador, algo así como el nombre del índice"
   ]
  },
  {
   "cell_type": "code",
   "execution_count": 26,
   "id": "37366e8b",
   "metadata": {},
   "outputs": [
    {
     "data": {
      "text/plain": [
       "(saludo = \"Hola\", nombre = \"Rafael\")"
      ]
     },
     "execution_count": 26,
     "metadata": {},
     "output_type": "execute_result"
    }
   ],
   "source": [
    "t = (saludo = \"Hola\", nombre = \"Rafael\")"
   ]
  },
  {
   "cell_type": "code",
   "execution_count": 27,
   "id": "7a8ff022",
   "metadata": {},
   "outputs": [
    {
     "data": {
      "text/plain": [
       "\"Hola\""
      ]
     },
     "execution_count": 27,
     "metadata": {},
     "output_type": "execute_result"
    }
   ],
   "source": [
    "t.saludo"
   ]
  },
  {
   "cell_type": "code",
   "execution_count": 28,
   "id": "5400b9bb",
   "metadata": {},
   "outputs": [
    {
     "data": {
      "text/plain": [
       "\"Rafael\""
      ]
     },
     "execution_count": 28,
     "metadata": {},
     "output_type": "execute_result"
    }
   ],
   "source": [
    "t.nombre"
   ]
  },
  {
   "cell_type": "code",
   "execution_count": 29,
   "id": "27012d1c",
   "metadata": {},
   "outputs": [
    {
     "data": {
      "text/plain": [
       "\"Hola\""
      ]
     },
     "execution_count": 29,
     "metadata": {},
     "output_type": "execute_result"
    }
   ],
   "source": [
    "t[1]"
   ]
  },
  {
   "cell_type": "code",
   "execution_count": 33,
   "id": "faa44aa0",
   "metadata": {},
   "outputs": [
    {
     "data": {
      "text/plain": [
       "\"Hola Rafael\""
      ]
     },
     "execution_count": 33,
     "metadata": {},
     "output_type": "execute_result"
    }
   ],
   "source": [
    "t.saludo * \" \" * t.nombre"
   ]
  },
  {
   "cell_type": "code",
   "execution_count": 35,
   "id": "17cd88fb",
   "metadata": {},
   "outputs": [
    {
     "data": {
      "text/plain": [
       "(1, 2, 3, 4, 5, 6, 7, 8, 9, 10, 11, 12, 13, 14, 15, 16, 17, 18, 19, 20)"
      ]
     },
     "execution_count": 35,
     "metadata": {},
     "output_type": "execute_result"
    }
   ],
   "source": [
    "(1:20...,)"
   ]
  },
  {
   "cell_type": "code",
   "execution_count": 45,
   "id": "67d0d61d",
   "metadata": {},
   "outputs": [
    {
     "data": {
      "text/plain": [
       "('a', 'b', 'c', 'd', 'e', 'f', 'g', 'h', 'i', 'j', 'k', 'l', 'm', 'n', 'o', 'p', 'q', 'r', 's', 't', 'u', 'v', 'w', 'x', 'y', 'z')"
      ]
     },
     "execution_count": 45,
     "metadata": {},
     "output_type": "execute_result"
    }
   ],
   "source": [
    "abc = ('a':'z'...,)"
   ]
  },
  {
   "cell_type": "markdown",
   "id": "8664e36b",
   "metadata": {},
   "source": [
    "Los dos anteriores ejemplos nos construyen una lista con elementos entre 1 y 20 para el primero y en el segundo entre el valor ascii de 'a' y el valor ascii de 'b'.\n",
    "\n",
    "Para el segundo caso si lo ponemos con comillas dobles nos marcara error, esto debido a que con las comillas dobles es una cadena"
   ]
  },
  {
   "cell_type": "markdown",
   "id": "afb67dec",
   "metadata": {},
   "source": [
    "En el caso de las matrices, es similar a las tuplas solo que ahora usaremos corchetes en lugar de paréntesis"
   ]
  },
  {
   "cell_type": "code",
   "execution_count": 55,
   "id": "e42ac666",
   "metadata": {},
   "outputs": [
    {
     "data": {
      "text/plain": [
       "1×3 Matrix{Int64}:\n",
       " 1  2  3"
      ]
     },
     "execution_count": 55,
     "metadata": {},
     "output_type": "execute_result"
    }
   ],
   "source": [
    "[1 2 3]"
   ]
  },
  {
   "cell_type": "code",
   "execution_count": 56,
   "id": "a7ef17e3",
   "metadata": {},
   "outputs": [
    {
     "data": {
      "text/plain": [
       "3×3 Matrix{Int64}:\n",
       " 1  2  3\n",
       " 4  5  6\n",
       " 7  8  9"
      ]
     },
     "execution_count": 56,
     "metadata": {},
     "output_type": "execute_result"
    }
   ],
   "source": [
    "[ 1 2 3;4 5 6;7 8 9]"
   ]
  },
  {
   "cell_type": "markdown",
   "id": "81c6df81",
   "metadata": {},
   "source": [
    "Se utilizan el ; para separar cada renglón"
   ]
  },
  {
   "cell_type": "raw",
   "id": "9803f37b",
   "metadata": {},
   "source": [
    "Las matrices tienen varias funciones bastante útiles relacionadas a álgebra lineal, más adelante las veremos"
   ]
  },
  {
   "cell_type": "code",
   "execution_count": 60,
   "id": "21eaafee",
   "metadata": {},
   "outputs": [
    {
     "data": {
      "text/plain": [
       "2×2 Matrix{Float64}:\n",
       " 0.0  0.0\n",
       " 0.0  0.0"
      ]
     },
     "execution_count": 60,
     "metadata": {},
     "output_type": "execute_result"
    }
   ],
   "source": [
    "zeros(2,2)"
   ]
  },
  {
   "cell_type": "markdown",
   "id": "297f6169",
   "metadata": {},
   "source": [
    "zeros crea una matriz de ceros con las filas y columnas que le indiquemos, sino indicamos el tipo de dato, la creara de tipo flotante de 64bits"
   ]
  },
  {
   "cell_type": "code",
   "execution_count": 61,
   "id": "6589b4f0",
   "metadata": {},
   "outputs": [
    {
     "data": {
      "text/plain": [
       "3×3 Matrix{Int64}:\n",
       " 0  0  0\n",
       " 0  0  0\n",
       " 0  0  0"
      ]
     },
     "execution_count": 61,
     "metadata": {},
     "output_type": "execute_result"
    }
   ],
   "source": [
    "zeros(Int,3,3)"
   ]
  },
  {
   "cell_type": "raw",
   "id": "99517c15",
   "metadata": {},
   "source": [
    "Contrario a zeros, existe ones, la cuál hace lo mismo que zeros pero con unos"
   ]
  },
  {
   "cell_type": "code",
   "execution_count": 62,
   "id": "a2148267",
   "metadata": {},
   "outputs": [
    {
     "data": {
      "text/plain": [
       "2×3 Matrix{Float64}:\n",
       " 1.0  1.0  1.0\n",
       " 1.0  1.0  1.0"
      ]
     },
     "execution_count": 62,
     "metadata": {},
     "output_type": "execute_result"
    }
   ],
   "source": [
    "ones(2,3)"
   ]
  },
  {
   "cell_type": "markdown",
   "id": "e281980e",
   "metadata": {},
   "source": [
    "Existen otras variaciones como trues y falses, que podrían ser parecidas a ones y zeros, pero aquí en realidad son los tipos booleanos, verdadero y falso"
   ]
  },
  {
   "cell_type": "code",
   "execution_count": 77,
   "id": "d727069f",
   "metadata": {},
   "outputs": [
    {
     "data": {
      "text/plain": [
       "2×2 BitMatrix:\n",
       " 1  1\n",
       " 1  1"
      ]
     },
     "execution_count": 77,
     "metadata": {},
     "output_type": "execute_result"
    }
   ],
   "source": [
    "trues(2,2)"
   ]
  },
  {
   "cell_type": "code",
   "execution_count": 78,
   "id": "2b297b1d",
   "metadata": {},
   "outputs": [
    {
     "data": {
      "text/plain": [
       "2×2 BitMatrix:\n",
       " 0  0\n",
       " 0  0"
      ]
     },
     "execution_count": 78,
     "metadata": {},
     "output_type": "execute_result"
    }
   ],
   "source": [
    "falses(2,2)"
   ]
  },
  {
   "cell_type": "markdown",
   "id": "d30c6b47",
   "metadata": {},
   "source": [
    "Otra función interesante es rand, la cuál nos permite crear una matriz con números aleatorios"
   ]
  },
  {
   "cell_type": "code",
   "execution_count": 94,
   "id": "7ec02abf",
   "metadata": {},
   "outputs": [
    {
     "data": {
      "text/plain": [
       "2×4 Matrix{Float64}:\n",
       " 0.802548  0.362679   0.0643667  0.362226\n",
       " 0.208075  0.0196953  0.589822   0.968881"
      ]
     },
     "execution_count": 94,
     "metadata": {},
     "output_type": "execute_result"
    }
   ],
   "source": [
    "rand(2,4)"
   ]
  },
  {
   "cell_type": "code",
   "execution_count": 95,
   "id": "fc6b8077",
   "metadata": {},
   "outputs": [
    {
     "data": {
      "text/plain": [
       "3×4 Matrix{Int64}:\n",
       "   191428336582576609  -7337758105798758488  …  -6506477882503984034\n",
       "  7868456937947634255   4015315719533467518     -1143668177028897722\n",
       " -8089313235818217607  -7759068056241484315      6251038846851299777"
      ]
     },
     "execution_count": 95,
     "metadata": {},
     "output_type": "execute_result"
    }
   ],
   "source": [
    "rand(Int,3,4)"
   ]
  },
  {
   "cell_type": "code",
   "execution_count": 98,
   "id": "72cb113d",
   "metadata": {},
   "outputs": [
    {
     "data": {
      "text/plain": [
       "2×3 Matrix{Bool}:\n",
       " 0  0  1\n",
       " 1  0  0"
      ]
     },
     "execution_count": 98,
     "metadata": {},
     "output_type": "execute_result"
    }
   ],
   "source": [
    "rand(Bool,2,3)"
   ]
  },
  {
   "cell_type": "code",
   "execution_count": 99,
   "id": "4d9a198e",
   "metadata": {},
   "outputs": [
    {
     "data": {
      "text/plain": [
       "2×4×2 Array{Char, 3}:\n",
       "[:, :, 1] =\n",
       " '\\U73265'  '\\U7d8a1'  '\\U6477b'  '\\U3fc61'\n",
       " '\\U93a2e'  '\\Ufeccf'  '\\U982ef'  '\\Ueecaf'\n",
       "\n",
       "[:, :, 2] =\n",
       " '\\U797fc'   '\\Ub1b4c'  '\\U95d83'  '\\U54a31'\n",
       " '\\U103ac3'  '\\Ufe8af'  '\\Ud6e0a'  '\\Ue6bef'"
      ]
     },
     "execution_count": 99,
     "metadata": {},
     "output_type": "execute_result"
    }
   ],
   "source": [
    "rand(Char, 2,4,2)"
   ]
  },
  {
   "cell_type": "markdown",
   "id": "ced2d248",
   "metadata": {},
   "source": [
    "Otra función interesante es fill, la cuál nos llena la matriz con lo que le indiquemos"
   ]
  },
  {
   "cell_type": "code",
   "execution_count": 102,
   "id": "1b0bde62",
   "metadata": {},
   "outputs": [
    {
     "data": {
      "text/plain": [
       "2×2 Matrix{Char}:\n",
       " 'a'  'a'\n",
       " 'a'  'a'"
      ]
     },
     "execution_count": 102,
     "metadata": {},
     "output_type": "execute_result"
    }
   ],
   "source": [
    "fill('a',2,2)"
   ]
  },
  {
   "cell_type": "code",
   "execution_count": 103,
   "id": "10c3199b",
   "metadata": {},
   "outputs": [
    {
     "data": {
      "text/plain": [
       "2×2 Matrix{Int64}:\n",
       " 3  3\n",
       " 3  3"
      ]
     },
     "execution_count": 103,
     "metadata": {},
     "output_type": "execute_result"
    }
   ],
   "source": [
    "fill(3,2,2)"
   ]
  },
  {
   "cell_type": "code",
   "execution_count": 104,
   "id": "96c91116",
   "metadata": {},
   "outputs": [
    {
     "data": {
      "text/plain": [
       "2×2 Matrix{Bool}:\n",
       " 1  1\n",
       " 1  1"
      ]
     },
     "execution_count": 104,
     "metadata": {},
     "output_type": "execute_result"
    }
   ],
   "source": [
    "fill(true,2,2)"
   ]
  },
  {
   "cell_type": "code",
   "execution_count": 105,
   "id": "41a6e52e",
   "metadata": {},
   "outputs": [
    {
     "data": {
      "text/plain": [
       "2×2 Matrix{Complex{Int64}}:\n",
       " 2+3im  2+3im\n",
       " 2+3im  2+3im"
      ]
     },
     "execution_count": 105,
     "metadata": {},
     "output_type": "execute_result"
    }
   ],
   "source": [
    "fill(2+3im,2,2)"
   ]
  },
  {
   "cell_type": "code",
   "execution_count": 106,
   "id": "57fcc687",
   "metadata": {},
   "outputs": [
    {
     "data": {
      "text/plain": [
       "2×2 Matrix{Rational{Int64}}:\n",
       " 2//3  2//3\n",
       " 2//3  2//3"
      ]
     },
     "execution_count": 106,
     "metadata": {},
     "output_type": "execute_result"
    }
   ],
   "source": [
    "fill(2//3,2,2)"
   ]
  },
  {
   "cell_type": "markdown",
   "id": "6e90b57f",
   "metadata": {},
   "source": [
    "De igual manera es posible acceder a los elementos de una matriz a tráves de sus indice, en el caso de tener más de una fila o columna, habrá que indicar ambos"
   ]
  },
  {
   "cell_type": "code",
   "execution_count": 107,
   "id": "fe68bc4a",
   "metadata": {},
   "outputs": [
    {
     "data": {
      "text/plain": [
       "3×3 Matrix{Float64}:\n",
       " 0.85038   0.542737  0.93576\n",
       " 0.306083  0.245391  0.594729\n",
       " 0.657365  0.686769  0.981714"
      ]
     },
     "execution_count": 107,
     "metadata": {},
     "output_type": "execute_result"
    }
   ],
   "source": [
    "m = rand(3,3)"
   ]
  },
  {
   "cell_type": "code",
   "execution_count": 110,
   "id": "50823232",
   "metadata": {},
   "outputs": [
    {
     "data": {
      "text/plain": [
       "0.30608349152912906"
      ]
     },
     "execution_count": 110,
     "metadata": {},
     "output_type": "execute_result"
    }
   ],
   "source": [
    "m[2, 1]"
   ]
  },
  {
   "cell_type": "markdown",
   "id": "c1ed54a1",
   "metadata": {},
   "source": [
    "También podemos hacer uso de ':' para indicar el rango de elementos"
   ]
  },
  {
   "cell_type": "code",
   "execution_count": 111,
   "id": "9e04c9c8",
   "metadata": {},
   "outputs": [
    {
     "data": {
      "text/plain": [
       "4×4 Matrix{Float64}:\n",
       " 0.208119  0.756435  0.187255   0.664564\n",
       " 0.990136  0.261436  0.0820242  0.930279\n",
       " 0.155537  0.492313  0.439449   0.191993\n",
       " 0.473218  0.299037  0.451644   0.325869"
      ]
     },
     "execution_count": 111,
     "metadata": {},
     "output_type": "execute_result"
    }
   ],
   "source": [
    "m = rand(4,4)"
   ]
  },
  {
   "cell_type": "code",
   "execution_count": 113,
   "id": "7d59ca3a",
   "metadata": {},
   "outputs": [
    {
     "data": {
      "text/plain": [
       "2×2 Matrix{Float64}:\n",
       " 0.187255   0.664564\n",
       " 0.0820242  0.930279"
      ]
     },
     "execution_count": 113,
     "metadata": {},
     "output_type": "execute_result"
    }
   ],
   "source": [
    "m[1:2,3:4]"
   ]
  },
  {
   "cell_type": "code",
   "execution_count": 114,
   "id": "709f0476",
   "metadata": {},
   "outputs": [
    {
     "data": {
      "text/plain": [
       "4×2 Matrix{Float64}:\n",
       " 0.187255   0.664564\n",
       " 0.0820242  0.930279\n",
       " 0.439449   0.191993\n",
       " 0.451644   0.325869"
      ]
     },
     "execution_count": 114,
     "metadata": {},
     "output_type": "execute_result"
    }
   ],
   "source": [
    "m[:,3:4]"
   ]
  },
  {
   "cell_type": "markdown",
   "id": "cd20ed37",
   "metadata": {},
   "source": [
    "A diferencia de las tuplas en las matrices si podemos modificar sus valores, ya sea la matriz completa o alguno de sus elementos a tráves de sus índices"
   ]
  },
  {
   "cell_type": "code",
   "execution_count": 117,
   "id": "49b01315",
   "metadata": {},
   "outputs": [
    {
     "data": {
      "text/plain": [
       "3"
      ]
     },
     "execution_count": 117,
     "metadata": {},
     "output_type": "execute_result"
    }
   ],
   "source": [
    "m[2,1] = 3"
   ]
  },
  {
   "cell_type": "code",
   "execution_count": 118,
   "id": "a281aeaa",
   "metadata": {},
   "outputs": [
    {
     "data": {
      "text/plain": [
       "4×4 Matrix{Float64}:\n",
       " 0.208119  0.756435  0.187255   0.664564\n",
       " 3.0       0.261436  0.0820242  0.930279\n",
       " 0.155537  0.492313  0.439449   0.191993\n",
       " 0.473218  0.299037  0.451644   0.325869"
      ]
     },
     "execution_count": 118,
     "metadata": {},
     "output_type": "execute_result"
    }
   ],
   "source": [
    "m"
   ]
  },
  {
   "cell_type": "code",
   "execution_count": 120,
   "id": "ab4bd6dc",
   "metadata": {},
   "outputs": [
    {
     "data": {
      "text/plain": [
       "2×2 Matrix{Float64}:\n",
       " 1.0  1.0\n",
       " 1.0  1.0"
      ]
     },
     "execution_count": 120,
     "metadata": {},
     "output_type": "execute_result"
    }
   ],
   "source": [
    "m[2:3,3:4] = ones(2,2)"
   ]
  },
  {
   "cell_type": "code",
   "execution_count": 121,
   "id": "a7b64463",
   "metadata": {},
   "outputs": [
    {
     "data": {
      "text/plain": [
       "4×4 Matrix{Float64}:\n",
       " 0.208119  0.756435  0.187255  0.664564\n",
       " 3.0       0.261436  1.0       1.0\n",
       " 0.155537  0.492313  1.0       1.0\n",
       " 0.473218  0.299037  0.451644  0.325869"
      ]
     },
     "execution_count": 121,
     "metadata": {},
     "output_type": "execute_result"
    }
   ],
   "source": [
    "m"
   ]
  },
  {
   "cell_type": "raw",
   "id": "59a5b22a",
   "metadata": {},
   "source": [
    "Otra forma de acceder a los elementos de una matriz es mediante iteraciones"
   ]
  },
  {
   "cell_type": "code",
   "execution_count": 126,
   "id": "2df079e8",
   "metadata": {
    "scrolled": true
   },
   "outputs": [
    {
     "name": "stdout",
     "output_type": "stream",
     "text": [
      "0.20811936707476741\n",
      "3.0\n",
      "0.1555368075301906\n",
      "0.47321811265790803\n",
      "0.7564350593018545\n",
      "0.2614361589781524\n",
      "0.4923129255332761\n",
      "0.2990369280776295\n",
      "0.1872548529607876\n",
      "1.0\n",
      "1.0\n",
      "0.4516439579365059\n",
      "0.6645641083874019\n",
      "1.0\n",
      "1.0\n",
      "0.3258693843391536\n"
     ]
    }
   ],
   "source": [
    "for n in m\n",
    "    println(n)\n",
    "end"
   ]
  },
  {
   "cell_type": "markdown",
   "id": "fa4f44de",
   "metadata": {},
   "source": [
    "Otra manera es la función eachindex, la cuál nos sirve para obtener el indice mientras iteramos"
   ]
  },
  {
   "cell_type": "code",
   "execution_count": 128,
   "id": "392af298",
   "metadata": {},
   "outputs": [
    {
     "data": {
      "text/plain": [
       "1×3 Matrix{String}:\n",
       " \"Hola\"  \"¿Qué tal?\"  \"Saludos\""
      ]
     },
     "execution_count": 128,
     "metadata": {},
     "output_type": "execute_result"
    }
   ],
   "source": [
    "saludos = [\"Hola\" \"¿Qué tal?\" \"Saludos\"]"
   ]
  },
  {
   "cell_type": "code",
   "execution_count": 134,
   "id": "d6b85be9",
   "metadata": {},
   "outputs": [
    {
     "name": "stdout",
     "output_type": "stream",
     "text": [
      "1. Hola\n",
      "2. ¿Qué tal?\n",
      "3. Saludos\n"
     ]
    }
   ],
   "source": [
    "for p in eachindex(saludos)\n",
    "    println(p,\". $(saludos[p])\")\n",
    "end"
   ]
  },
  {
   "cell_type": "markdown",
   "id": "baf740ba",
   "metadata": {},
   "source": [
    "Una función también muy útil es la función push, la cuál nos permite añadir un elemento al final de un vector(matriz de una fila o columna)"
   ]
  },
  {
   "cell_type": "code",
   "execution_count": 150,
   "id": "420f484e",
   "metadata": {},
   "outputs": [
    {
     "data": {
      "text/plain": [
       "10-element Vector{Int64}:\n",
       "  1\n",
       "  2\n",
       "  3\n",
       "  4\n",
       "  5\n",
       "  6\n",
       "  7\n",
       "  8\n",
       "  9\n",
       " 10"
      ]
     },
     "execution_count": 150,
     "metadata": {},
     "output_type": "execute_result"
    }
   ],
   "source": [
    "arr = [1:10...,]"
   ]
  },
  {
   "cell_type": "code",
   "execution_count": 151,
   "id": "3c7f2348",
   "metadata": {},
   "outputs": [
    {
     "data": {
      "text/plain": [
       "12-element Vector{Int64}:\n",
       "  1\n",
       "  2\n",
       "  3\n",
       "  4\n",
       "  5\n",
       "  6\n",
       "  7\n",
       "  8\n",
       "  9\n",
       " 10\n",
       " 11\n",
       " 12"
      ]
     },
     "execution_count": 151,
     "metadata": {},
     "output_type": "execute_result"
    }
   ],
   "source": [
    "push!(arr,11,12)"
   ]
  },
  {
   "cell_type": "code",
   "execution_count": 152,
   "id": "39ab2593",
   "metadata": {},
   "outputs": [
    {
     "data": {
      "text/plain": [
       "14-element Vector{Int64}:\n",
       "  1\n",
       "  2\n",
       "  3\n",
       "  4\n",
       "  5\n",
       "  6\n",
       "  7\n",
       "  8\n",
       "  9\n",
       " 10\n",
       " 11\n",
       " 12\n",
       " 13\n",
       " 14"
      ]
     },
     "execution_count": 152,
     "metadata": {},
     "output_type": "execute_result"
    }
   ],
   "source": [
    "push!(arr,13,14)"
   ]
  },
  {
   "cell_type": "markdown",
   "id": "d3494f29",
   "metadata": {},
   "source": [
    "Contrario a push, existe pop, la cuál nos permite eliminar el último elemento de un vector"
   ]
  },
  {
   "cell_type": "code",
   "execution_count": 153,
   "id": "01090338",
   "metadata": {},
   "outputs": [
    {
     "data": {
      "text/plain": [
       "14"
      ]
     },
     "execution_count": 153,
     "metadata": {},
     "output_type": "execute_result"
    }
   ],
   "source": [
    "pop!(arr)"
   ]
  },
  {
   "cell_type": "code",
   "execution_count": 155,
   "id": "2b0c9780",
   "metadata": {},
   "outputs": [
    {
     "data": {
      "text/plain": [
       "13-element Vector{Int64}:\n",
       "  1\n",
       "  2\n",
       "  3\n",
       "  4\n",
       "  5\n",
       "  6\n",
       "  7\n",
       "  8\n",
       "  9\n",
       " 10\n",
       " 11\n",
       " 12\n",
       " 13"
      ]
     },
     "execution_count": 155,
     "metadata": {},
     "output_type": "execute_result"
    }
   ],
   "source": [
    "arr"
   ]
  },
  {
   "cell_type": "code",
   "execution_count": 156,
   "id": "b9f813a9",
   "metadata": {},
   "outputs": [
    {
     "data": {
      "text/plain": [
       "13"
      ]
     },
     "execution_count": 156,
     "metadata": {},
     "output_type": "execute_result"
    }
   ],
   "source": [
    "pop!(arr)"
   ]
  },
  {
   "cell_type": "code",
   "execution_count": 157,
   "id": "30b7461e",
   "metadata": {},
   "outputs": [
    {
     "data": {
      "text/plain": [
       "12"
      ]
     },
     "execution_count": 157,
     "metadata": {},
     "output_type": "execute_result"
    }
   ],
   "source": [
    "pop!(arr)"
   ]
  },
  {
   "cell_type": "code",
   "execution_count": 159,
   "id": "af110f7b",
   "metadata": {},
   "outputs": [
    {
     "data": {
      "text/plain": [
       "10"
      ]
     },
     "execution_count": 159,
     "metadata": {},
     "output_type": "execute_result"
    }
   ],
   "source": [
    "pop!(arr)"
   ]
  },
  {
   "cell_type": "code",
   "execution_count": 160,
   "id": "1062e778",
   "metadata": {},
   "outputs": [
    {
     "data": {
      "text/plain": [
       "9-element Vector{Int64}:\n",
       " 1\n",
       " 2\n",
       " 3\n",
       " 4\n",
       " 5\n",
       " 6\n",
       " 7\n",
       " 8\n",
       " 9"
      ]
     },
     "execution_count": 160,
     "metadata": {},
     "output_type": "execute_result"
    }
   ],
   "source": [
    "arr"
   ]
  },
  {
   "cell_type": "markdown",
   "id": "61807ff3",
   "metadata": {},
   "source": [
    "Otra función que puede ser útil es la de copy, la cuál nos permite copiar un vector o una matriz en otro"
   ]
  },
  {
   "cell_type": "code",
   "execution_count": 164,
   "id": "8c8d8e33",
   "metadata": {},
   "outputs": [
    {
     "data": {
      "text/plain": [
       "9-element Vector{Int64}:\n",
       " 1\n",
       " 2\n",
       " 3\n",
       " 4\n",
       " 5\n",
       " 6\n",
       " 7\n",
       " 8\n",
       " 9"
      ]
     },
     "execution_count": 164,
     "metadata": {},
     "output_type": "execute_result"
    }
   ],
   "source": [
    "arr2 = copy(arr)"
   ]
  },
  {
   "cell_type": "markdown",
   "id": "686ad17f",
   "metadata": {},
   "source": [
    "Otra forma de crear arrays es mediante comprensiones, la cuál en vez de usar ciclos, hacemos todo desde la definición de la matriz"
   ]
  },
  {
   "cell_type": "code",
   "execution_count": 175,
   "id": "d90071be",
   "metadata": {},
   "outputs": [
    {
     "data": {
      "text/plain": [
       "4-element Vector{Int64}:\n",
       "  8\n",
       "  9\n",
       " 10\n",
       " 11"
      ]
     },
     "execution_count": 175,
     "metadata": {},
     "output_type": "execute_result"
    }
   ],
   "source": [
    "[x += 1 for x = 1:10 if x/2 > 3]"
   ]
  },
  {
   "cell_type": "code",
   "execution_count": 173,
   "id": "d25dd514",
   "metadata": {},
   "outputs": [],
   "source": [
    "x = []\n",
    "for i in 1:10\n",
    "    if i/2 > 3\n",
    "        push!(x,i+1)\n",
    "    end\n",
    "end"
   ]
  },
  {
   "cell_type": "code",
   "execution_count": 174,
   "id": "35502329",
   "metadata": {},
   "outputs": [
    {
     "data": {
      "text/plain": [
       "4-element Vector{Any}:\n",
       "  8\n",
       "  9\n",
       " 10\n",
       " 11"
      ]
     },
     "execution_count": 174,
     "metadata": {},
     "output_type": "execute_result"
    }
   ],
   "source": [
    "x"
   ]
  },
  {
   "cell_type": "markdown",
   "id": "11d5ec45",
   "metadata": {},
   "source": [
    "Al utilizar comprensiones optimizamos código y rendimiento.\n",
    "\n",
    "No solo a vectores también se puede con matrices"
   ]
  },
  {
   "cell_type": "code",
   "execution_count": 177,
   "id": "29a4f5bb",
   "metadata": {},
   "outputs": [
    {
     "data": {
      "text/plain": [
       "5×5 Matrix{Int64}:\n",
       " 12  13  14  15  16\n",
       " 13  14  15  16  17\n",
       " 14  15  16  17  18\n",
       " 15  16  17  18  19\n",
       " 16  17  18  19  20"
      ]
     },
     "execution_count": 177,
     "metadata": {},
     "output_type": "execute_result"
    }
   ],
   "source": [
    "[x += y for x = 1:5, y = 11:15]"
   ]
  },
  {
   "cell_type": "code",
   "execution_count": null,
   "id": "e19e6b9f",
   "metadata": {},
   "outputs": [],
   "source": []
  }
 ],
 "metadata": {
  "kernelspec": {
   "display_name": "Julia 1.6.3",
   "language": "julia",
   "name": "julia-1.6"
  },
  "language_info": {
   "file_extension": ".jl",
   "mimetype": "application/julia",
   "name": "julia",
   "version": "1.6.3"
  }
 },
 "nbformat": 4,
 "nbformat_minor": 5
}
