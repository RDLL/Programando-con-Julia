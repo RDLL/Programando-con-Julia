{
 "cells": [
  {
   "cell_type": "markdown",
   "id": "fd336895",
   "metadata": {},
   "source": [
    "La forma de definir variables en Julia es igual que en cualquier otro lenguaje, así mismo con tipos de datos como los enteros(int), flotantes(float), caracter(char) y cadenas (string) así como algunos numeros tales como los complejos, racionales e irracionales"
   ]
  },
  {
   "cell_type": "code",
   "execution_count": 6,
   "id": "eecdedc5",
   "metadata": {
    "scrolled": true
   },
   "outputs": [
    {
     "data": {
      "text/plain": [
       "\"Rafael\""
      ]
     },
     "execution_count": 6,
     "metadata": {},
     "output_type": "execute_result"
    }
   ],
   "source": [
    "name = \"Rafael\""
   ]
  },
  {
   "cell_type": "code",
   "execution_count": 4,
   "id": "2c694c72",
   "metadata": {},
   "outputs": [
    {
     "data": {
      "text/plain": [
       "String"
      ]
     },
     "execution_count": 4,
     "metadata": {},
     "output_type": "execute_result"
    }
   ],
   "source": [
    "typeof(name)"
   ]
  },
  {
   "cell_type": "code",
   "execution_count": 10,
   "id": "d3159989",
   "metadata": {},
   "outputs": [
    {
     "data": {
      "text/plain": [
       "'a': ASCII/Unicode U+0061 (category Ll: Letter, lowercase)"
      ]
     },
     "execution_count": 10,
     "metadata": {},
     "output_type": "execute_result"
    }
   ],
   "source": [
    "letter = 'a'"
   ]
  },
  {
   "cell_type": "code",
   "execution_count": 11,
   "id": "31525ff7",
   "metadata": {},
   "outputs": [
    {
     "data": {
      "text/plain": [
       "Char"
      ]
     },
     "execution_count": 11,
     "metadata": {},
     "output_type": "execute_result"
    }
   ],
   "source": [
    "typeof(letter)"
   ]
  },
  {
   "cell_type": "code",
   "execution_count": 12,
   "id": "45e8bed6",
   "metadata": {},
   "outputs": [
    {
     "data": {
      "text/plain": [
       "\"a\""
      ]
     },
     "execution_count": 12,
     "metadata": {},
     "output_type": "execute_result"
    }
   ],
   "source": [
    "string = \"a\""
   ]
  },
  {
   "cell_type": "code",
   "execution_count": 13,
   "id": "88db9d60",
   "metadata": {},
   "outputs": [
    {
     "data": {
      "text/plain": [
       "String"
      ]
     },
     "execution_count": 13,
     "metadata": {},
     "output_type": "execute_result"
    }
   ],
   "source": [
    "typeof(string)"
   ]
  },
  {
   "cell_type": "markdown",
   "id": "f395020f",
   "metadata": {},
   "source": [
    "Podemos ver que para definir un char se utilizan las comillas simples '' y para el String las comillas dobles \"\""
   ]
  },
  {
   "cell_type": "markdown",
   "id": "2167f3f1",
   "metadata": {},
   "source": [
    "También es posible el uso de unicode para definir variables, por ejemplo simbolos matematicos como pi, para ello se utiliza una sintáxis parecida a la de Latex, \\nombre_del_simbolo+Tab, para pi sería \\pi+Tab"
   ]
  },
  {
   "cell_type": "code",
   "execution_count": 14,
   "id": "e0eecfab",
   "metadata": {},
   "outputs": [
    {
     "data": {
      "text/plain": [
       "π = 3.1415926535897..."
      ]
     },
     "execution_count": 14,
     "metadata": {},
     "output_type": "execute_result"
    }
   ],
   "source": [
    "π"
   ]
  },
  {
   "cell_type": "code",
   "execution_count": 26,
   "id": "ece280e0",
   "metadata": {},
   "outputs": [
    {
     "data": {
      "text/plain": [
       "Irrational{:π}"
      ]
     },
     "execution_count": 26,
     "metadata": {},
     "output_type": "execute_result"
    }
   ],
   "source": [
    "typeof(π)"
   ]
  },
  {
   "cell_type": "code",
   "execution_count": 16,
   "id": "bb044f14",
   "metadata": {},
   "outputs": [
    {
     "data": {
      "text/plain": [
       "3"
      ]
     },
     "execution_count": 16,
     "metadata": {},
     "output_type": "execute_result"
    }
   ],
   "source": [
    "integer = 3"
   ]
  },
  {
   "cell_type": "code",
   "execution_count": 17,
   "id": "873daf4b",
   "metadata": {},
   "outputs": [
    {
     "data": {
      "text/plain": [
       "Int64"
      ]
     },
     "execution_count": 17,
     "metadata": {},
     "output_type": "execute_result"
    }
   ],
   "source": [
    "typeof(integer)"
   ]
  },
  {
   "cell_type": "markdown",
   "id": "ad96c21f",
   "metadata": {},
   "source": [
    "Dependiendo de la arquitectura de tu procesador podría ser Int32 o Int64, est también aplica para los flotantes Float64 o Float32"
   ]
  },
  {
   "cell_type": "code",
   "execution_count": 18,
   "id": "13098b31",
   "metadata": {},
   "outputs": [
    {
     "data": {
      "text/plain": [
       "Int32"
      ]
     },
     "execution_count": 18,
     "metadata": {},
     "output_type": "execute_result"
    }
   ],
   "source": [
    "typeof(Int32(integer))"
   ]
  },
  {
   "cell_type": "markdown",
   "id": "9b4cb6c3",
   "metadata": {},
   "source": [
    "A esto se le llama cast, que es hacer pasar por otro tipo de dato alguna variable, en este caso a integer la hago pasar por un Int32"
   ]
  },
  {
   "cell_type": "code",
   "execution_count": 19,
   "id": "176fd516",
   "metadata": {},
   "outputs": [
    {
     "data": {
      "text/plain": [
       "1.0"
      ]
     },
     "execution_count": 19,
     "metadata": {},
     "output_type": "execute_result"
    }
   ],
   "source": [
    "float = 1.0"
   ]
  },
  {
   "cell_type": "code",
   "execution_count": 20,
   "id": "cee736b7",
   "metadata": {},
   "outputs": [
    {
     "data": {
      "text/plain": [
       "Float64"
      ]
     },
     "execution_count": 20,
     "metadata": {},
     "output_type": "execute_result"
    }
   ],
   "source": [
    "typeof(float)"
   ]
  },
  {
   "cell_type": "markdown",
   "id": "6832fbc6",
   "metadata": {},
   "source": [
    "También es posible definir variables como numeros racionales usando doble slash //"
   ]
  },
  {
   "cell_type": "code",
   "execution_count": 21,
   "id": "3cc640c4",
   "metadata": {},
   "outputs": [
    {
     "data": {
      "text/plain": [
       "2//5"
      ]
     },
     "execution_count": 21,
     "metadata": {},
     "output_type": "execute_result"
    }
   ],
   "source": [
    "fraction = 2 // 5"
   ]
  },
  {
   "cell_type": "code",
   "execution_count": 22,
   "id": "51e75a1e",
   "metadata": {},
   "outputs": [
    {
     "data": {
      "text/plain": [
       "Rational{Int64}"
      ]
     },
     "execution_count": 22,
     "metadata": {},
     "output_type": "execute_result"
    }
   ],
   "source": [
    "typeof(fraction)"
   ]
  },
  {
   "cell_type": "markdown",
   "id": "050891ff",
   "metadata": {},
   "source": [
    "Para los numeros complejos bastara con definir una variable en la forma binomica de un numero complejo y agregando im en la parte imaginaria"
   ]
  },
  {
   "cell_type": "code",
   "execution_count": 27,
   "id": "9bd66200",
   "metadata": {},
   "outputs": [
    {
     "data": {
      "text/plain": [
       "1 + 3im"
      ]
     },
     "execution_count": 27,
     "metadata": {},
     "output_type": "execute_result"
    }
   ],
   "source": [
    "complex = 3im +1"
   ]
  },
  {
   "cell_type": "code",
   "execution_count": 28,
   "id": "c343d724",
   "metadata": {},
   "outputs": [
    {
     "data": {
      "text/plain": [
       "Complex{Int64}"
      ]
     },
     "execution_count": 28,
     "metadata": {},
     "output_type": "execute_result"
    }
   ],
   "source": [
    "typeof(complex)"
   ]
  },
  {
   "cell_type": "markdown",
   "id": "ef764186",
   "metadata": {},
   "source": [
    "Las constantes aquí son algo especial, ya que podemos cambiar su valor pero no su tipo, solo nos dará un warning; si yo defino un variable como tipo entero más adelante puedo cambiar su tipo debido a que Julia tiene tipado dinamico, pero en el caso de una constante no se puede"
   ]
  },
  {
   "cell_type": "code",
   "execution_count": 30,
   "id": "c5f4f065",
   "metadata": {},
   "outputs": [
    {
     "data": {
      "text/plain": [
       "Int64"
      ]
     },
     "execution_count": 30,
     "metadata": {},
     "output_type": "execute_result"
    }
   ],
   "source": [
    "typeof(number)"
   ]
  },
  {
   "cell_type": "code",
   "execution_count": 31,
   "id": "ed87c6d8",
   "metadata": {},
   "outputs": [
    {
     "data": {
      "text/plain": [
       "\"3\""
      ]
     },
     "execution_count": 31,
     "metadata": {},
     "output_type": "execute_result"
    }
   ],
   "source": [
    "number = \"3\""
   ]
  },
  {
   "cell_type": "code",
   "execution_count": 32,
   "id": "29c736f0",
   "metadata": {},
   "outputs": [
    {
     "data": {
      "text/plain": [
       "String"
      ]
     },
     "execution_count": 32,
     "metadata": {},
     "output_type": "execute_result"
    }
   ],
   "source": [
    "typeof(number)"
   ]
  },
  {
   "cell_type": "markdown",
   "id": "75b63022",
   "metadata": {},
   "source": [
    "Para definir una constante bastara con agregar const antes del nombre de la variable"
   ]
  },
  {
   "cell_type": "code",
   "execution_count": 40,
   "id": "efa45527",
   "metadata": {},
   "outputs": [
    {
     "data": {
      "text/plain": [
       "\"perro\""
      ]
     },
     "execution_count": 40,
     "metadata": {},
     "output_type": "execute_result"
    }
   ],
   "source": [
    "const animal = \"perro\""
   ]
  },
  {
   "cell_type": "code",
   "execution_count": 41,
   "id": "5814582e",
   "metadata": {},
   "outputs": [
    {
     "name": "stderr",
     "output_type": "stream",
     "text": [
      "WARNING: redefinition of constant animal. This may fail, cause incorrect answers, or produce other errors.\n"
     ]
    },
    {
     "data": {
      "text/plain": [
       "\"gato\""
      ]
     },
     "execution_count": 41,
     "metadata": {},
     "output_type": "execute_result"
    }
   ],
   "source": [
    "animal = \"gato\""
   ]
  },
  {
   "cell_type": "code",
   "execution_count": 42,
   "id": "8bb89714",
   "metadata": {},
   "outputs": [
    {
     "ename": "LoadError",
     "evalue": "invalid redefinition of constant animal",
     "output_type": "error",
     "traceback": [
      "invalid redefinition of constant animal",
      "",
      "Stacktrace:",
      " [1] top-level scope",
      "   @ In[42]:1",
      " [2] eval",
      "   @ ./boot.jl:360 [inlined]",
      " [3] include_string(mapexpr::typeof(REPL.softscope), mod::Module, code::String, filename::String)",
      "   @ Base ./loading.jl:1094"
     ]
    }
   ],
   "source": [
    "animal = 5"
   ]
  }
 ],
 "metadata": {
  "kernelspec": {
   "display_name": "Julia 1.6.3",
   "language": "julia",
   "name": "julia-1.6"
  },
  "language_info": {
   "file_extension": ".jl",
   "mimetype": "application/julia",
   "name": "julia",
   "version": "1.6.3"
  }
 },
 "nbformat": 4,
 "nbformat_minor": 5
}
