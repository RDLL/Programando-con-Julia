{
 "cells": [
  {
   "cell_type": "markdown",
   "id": "b3892be7",
   "metadata": {},
   "source": [
    "Las expresiones regulares son expresiones que sirven para buscar patrones de cadenas"
   ]
  },
  {
   "cell_type": "code",
   "execution_count": 56,
   "id": "9ecdacde",
   "metadata": {},
   "outputs": [
    {
     "data": {
      "text/plain": [
       "r\"[0-9]+\""
      ]
     },
     "execution_count": 56,
     "metadata": {},
     "output_type": "execute_result"
    }
   ],
   "source": [
    "reg = r\"[0-9]+\""
   ]
  },
  {
   "cell_type": "code",
   "execution_count": 57,
   "id": "4befba75",
   "metadata": {},
   "outputs": [
    {
     "data": {
      "text/plain": [
       "RegexMatch(\"136\")"
      ]
     },
     "execution_count": 57,
     "metadata": {},
     "output_type": "execute_result"
    }
   ],
   "source": [
    "match(reg, \"136 14\")"
   ]
  },
  {
   "cell_type": "markdown",
   "id": "ccf02590",
   "metadata": {},
   "source": [
    "La primera expresión nos dice que búsque un número entre 0 y 9, \\[\\0-9\\] y el \"+\" nos indica que encuentre algún número entre 0-9 que se repita una o más veces.\n",
    "Lo que nos dice esa expresión regular es busca un número entre 0 y 9 que se repita una o más veces.\n",
    "Por eso nos arroja el 136, si omitimos el \"+\" solo nos daría el 1\n",
    "\n",
    "La función match nos regresa la primer coincidencia, en este caso el 136."
   ]
  },
  {
   "cell_type": "code",
   "execution_count": 62,
   "id": "e0bc37ba",
   "metadata": {},
   "outputs": [
    {
     "name": "stdout",
     "output_type": "stream",
     "text": [
      "Coincidencia 12 en la posición 14\n",
      "Coincidencia 30 en la posición 28\n"
     ]
    }
   ],
   "source": [
    " for m in eachmatch(reg,\" Juan compra 12 dulces por 30 pesos\")\n",
    "    println(\"Coincidencia $(m.match) en la posición $(m.offset)\")\n",
    "end"
   ]
  },
  {
   "cell_type": "markdown",
   "id": "8903536e",
   "metadata": {},
   "source": [
    "La función eachmatch nos devuelve un objeto RegexMathch que para saber lo que encontró habrá que usar un ciclo como en el ejemplo"
   ]
  },
  {
   "cell_type": "code",
   "execution_count": 65,
   "id": "acce60b9",
   "metadata": {},
   "outputs": [],
   "source": [
    "match(r\"saludos\",\"Saludos colegas\")"
   ]
  },
  {
   "cell_type": "code",
   "execution_count": 68,
   "id": "c446c4c6",
   "metadata": {},
   "outputs": [
    {
     "data": {
      "text/plain": [
       "RegexMatch(\"Saludos\")"
      ]
     },
     "execution_count": 68,
     "metadata": {},
     "output_type": "execute_result"
    }
   ],
   "source": [
    "match(r\"saludos\"i,\"Saludos colegas\")"
   ]
  },
  {
   "cell_type": "markdown",
   "id": "d0b50d57",
   "metadata": {},
   "source": [
    "En el primer caso realiza una búsqueda de la palabra saludos tal cuál está escrita, por lo que al no encontrarla entonces no regresa nada.\n",
    "\n",
    "En el segundo realiza una búsqueda sin hacer distinción entre mayúsculas y minúsculas, por lo que nos regresa que encontró la coincidencia"
   ]
  }
 ],
 "metadata": {
  "kernelspec": {
   "display_name": "Julia 1.6.3",
   "language": "julia",
   "name": "julia-1.6"
  },
  "language_info": {
   "file_extension": ".jl",
   "mimetype": "application/julia",
   "name": "julia",
   "version": "1.6.3"
  }
 },
 "nbformat": 4,
 "nbformat_minor": 5
}
