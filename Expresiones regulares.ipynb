{
 "cells": [
  {
   "cell_type": "code",
   "execution_count": 1,
   "id": "9ecdacde",
   "metadata": {},
   "outputs": [
    {
     "data": {
      "text/plain": [
       "r\"[0-9]+\""
      ]
     },
     "execution_count": 1,
     "metadata": {},
     "output_type": "execute_result"
    }
   ],
   "source": [
    "reg = r\"[0-9]+\""
   ]
  },
  {
   "cell_type": "code",
   "execution_count": 2,
   "id": "4befba75",
   "metadata": {},
   "outputs": [
    {
     "data": {
      "text/plain": [
       "RegexMatch(\"1970\")"
      ]
     },
     "execution_count": 2,
     "metadata": {},
     "output_type": "execute_result"
    }
   ],
   "source": [
    "match(reg, \"It was 1970\")"
   ]
  },
  {
   "cell_type": "code",
   "execution_count": null,
   "id": "5eedd9b8",
   "metadata": {},
   "outputs": [],
   "source": []
  }
 ],
 "metadata": {
  "kernelspec": {
   "display_name": "Julia 1.6.1",
   "language": "julia",
   "name": "julia-1.6"
  },
  "language_info": {
   "file_extension": ".jl",
   "mimetype": "application/julia",
   "name": "julia",
   "version": "1.6.1"
  }
 },
 "nbformat": 4,
 "nbformat_minor": 5
}
