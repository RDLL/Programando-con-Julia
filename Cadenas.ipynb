{
 "cells": [
  {
   "cell_type": "markdown",
   "id": "e01b0728",
   "metadata": {},
   "source": [
    "Si recordamos Julia también nos permite utilizar Strings, para esto hay que utilizar las comillas dobles \" \""
   ]
  },
  {
   "cell_type": "code",
   "execution_count": 2,
   "id": "1e9543af",
   "metadata": {},
   "outputs": [
    {
     "data": {
      "text/plain": [
       "\"Una nueva cadena\""
      ]
     },
     "execution_count": 2,
     "metadata": {},
     "output_type": "execute_result"
    }
   ],
   "source": [
    "\"Una nueva cadena\""
   ]
  },
  {
   "cell_type": "code",
   "execution_count": 3,
   "id": "63a6c089",
   "metadata": {},
   "outputs": [
    {
     "data": {
      "text/plain": [
       "\"Aquí viene otra cadena\""
      ]
     },
     "execution_count": 3,
     "metadata": {},
     "output_type": "execute_result"
    }
   ],
   "source": [
    "\"Aquí viene otra cadena\""
   ]
  },
  {
   "cell_type": "markdown",
   "id": "f34eaa1e",
   "metadata": {},
   "source": [
    "Dentro de las cadenas podemos incluir citas, para ello tenemos dos maneras, poniendo entre slash y sus respectivas comillas dobles la cita \\\" \\\"  o utilizando triple comilla doble y las respectivas comillas de la cita, para ambos casos hay que separar la comilla de cierre de la cita de la de cierre del String"
   ]
  },
  {
   "cell_type": "code",
   "execution_count": 7,
   "id": "0f1a3829",
   "metadata": {},
   "outputs": [
    {
     "data": {
      "text/plain": [
       "\"\\\"Pienso y luego existo\\\" (René Descartes).\""
      ]
     },
     "execution_count": 7,
     "metadata": {},
     "output_type": "execute_result"
    }
   ],
   "source": [
    "\"\\\"Pienso y luego existo\\\" (René Descartes).\""
   ]
  },
  {
   "cell_type": "code",
   "execution_count": 9,
   "id": "5afc2cf7",
   "metadata": {},
   "outputs": [
    {
     "data": {
      "text/plain": [
       "\"\\\"Si quieres cambiar al mundo, cámbiate a ti mismo\\\" (Mahatma Gandhi)\""
      ]
     },
     "execution_count": 9,
     "metadata": {},
     "output_type": "execute_result"
    }
   ],
   "source": [
    "\"\"\"\"Si quieres cambiar al mundo, cámbiate a ti mismo\" (Mahatma Gandhi)\"\"\""
   ]
  },
  {
   "cell_type": "markdown",
   "id": "69755778",
   "metadata": {},
   "source": [
    "También podemos concatenar cadenas usando * o la función string"
   ]
  },
  {
   "cell_type": "code",
   "execution_count": 13,
   "id": "56b064cf",
   "metadata": {},
   "outputs": [
    {
     "data": {
      "text/plain": [
       "\"Stephen Hawking\""
      ]
     },
     "execution_count": 13,
     "metadata": {},
     "output_type": "execute_result"
    }
   ],
   "source": [
    "\"Stephen \" * \"Hawking\""
   ]
  },
  {
   "cell_type": "code",
   "execution_count": 15,
   "id": "24d77a5a",
   "metadata": {},
   "outputs": [
    {
     "data": {
      "text/plain": [
       "\"Leonard Euler\""
      ]
     },
     "execution_count": 15,
     "metadata": {},
     "output_type": "execute_result"
    }
   ],
   "source": [
    "string(\"Leonard \",\"Euler\")"
   ]
  },
  {
   "cell_type": "markdown",
   "id": "d0939620",
   "metadata": {},
   "source": [
    "Podemos concatenar varias cadenas con cualquiera de los dos métodos e incluso combinarlos"
   ]
  },
  {
   "cell_type": "code",
   "execution_count": 21,
   "id": "55916046",
   "metadata": {
    "scrolled": true
   },
   "outputs": [
    {
     "data": {
      "text/plain": [
       "\"Mis primeros pasos en Julia\""
      ]
     },
     "execution_count": 21,
     "metadata": {},
     "output_type": "execute_result"
    }
   ],
   "source": [
    "\"Mis \" * \"primeros \" * string(\"pasos \" * \"en \", \"Julia\")"
   ]
  },
  {
   "cell_type": "markdown",
   "id": "06a1b7d4",
   "metadata": {},
   "source": [
    "También es posible concatenar variables, sin embargo usando * solo se pueden concatenar variables que sean cadenas, esto es debido a que otra función de la función string (vaya redundancia) es convertir sus parámetros de entrada en una cadena"
   ]
  },
  {
   "cell_type": "code",
   "execution_count": 4,
   "id": "17d4ae63",
   "metadata": {},
   "outputs": [
    {
     "data": {
      "text/plain": [
       "342"
      ]
     },
     "execution_count": 4,
     "metadata": {},
     "output_type": "execute_result"
    }
   ],
   "source": [
    "number = 342"
   ]
  },
  {
   "cell_type": "code",
   "execution_count": 5,
   "id": "10f0bf88",
   "metadata": {},
   "outputs": [
    {
     "data": {
      "text/plain": [
       "Int64"
      ]
     },
     "execution_count": 5,
     "metadata": {},
     "output_type": "execute_result"
    }
   ],
   "source": [
    "typeof(number)"
   ]
  },
  {
   "cell_type": "code",
   "execution_count": 6,
   "id": "1ea7514c",
   "metadata": {},
   "outputs": [
    {
     "data": {
      "text/plain": [
       "String"
      ]
     },
     "execution_count": 6,
     "metadata": {},
     "output_type": "execute_result"
    }
   ],
   "source": [
    "typeof(string(number))"
   ]
  },
  {
   "cell_type": "code",
   "execution_count": 7,
   "id": "a8c176b8",
   "metadata": {},
   "outputs": [
    {
     "data": {
      "text/plain": [
       "\"342\""
      ]
     },
     "execution_count": 7,
     "metadata": {},
     "output_type": "execute_result"
    }
   ],
   "source": [
    "string(number)"
   ]
  },
  {
   "cell_type": "code",
   "execution_count": 2,
   "id": "e1e6bd20",
   "metadata": {},
   "outputs": [
    {
     "data": {
      "text/plain": [
       "\"Rafael\""
      ]
     },
     "execution_count": 2,
     "metadata": {},
     "output_type": "execute_result"
    }
   ],
   "source": [
    "name = \"Rafael\""
   ]
  },
  {
   "cell_type": "code",
   "execution_count": 5,
   "id": "b3e731b0",
   "metadata": {},
   "outputs": [
    {
     "data": {
      "text/plain": [
       "\"Saludos\""
      ]
     },
     "execution_count": 5,
     "metadata": {},
     "output_type": "execute_result"
    }
   ],
   "source": [
    "message = \"Saludos\""
   ]
  },
  {
   "cell_type": "code",
   "execution_count": 6,
   "id": "333d66d3",
   "metadata": {},
   "outputs": [
    {
     "data": {
      "text/plain": [
       "\"Saludos, Rafael\""
      ]
     },
     "execution_count": 6,
     "metadata": {},
     "output_type": "execute_result"
    }
   ],
   "source": [
    "message * \", \" * name"
   ]
  },
  {
   "cell_type": "code",
   "execution_count": 14,
   "id": "39043868",
   "metadata": {},
   "outputs": [
    {
     "data": {
      "text/plain": [
       "π = 3.1415926535897..."
      ]
     },
     "execution_count": 14,
     "metadata": {},
     "output_type": "execute_result"
    }
   ],
   "source": [
    "π"
   ]
  },
  {
   "cell_type": "code",
   "execution_count": 15,
   "id": "1d6c03fe",
   "metadata": {},
   "outputs": [
    {
     "data": {
      "text/plain": [
       "\" es irracional\""
      ]
     },
     "execution_count": 15,
     "metadata": {},
     "output_type": "execute_result"
    }
   ],
   "source": [
    "message = \" es irracional\""
   ]
  },
  {
   "cell_type": "code",
   "execution_count": 16,
   "id": "ef2bf66d",
   "metadata": {},
   "outputs": [
    {
     "ename": "LoadError",
     "evalue": "MethodError: no method matching *(::Irrational{:π}, ::String)\n\u001b[0mClosest candidates are:\n\u001b[0m  *(::Any, ::Any, \u001b[91m::Any\u001b[39m, \u001b[91m::Any...\u001b[39m) at operators.jl:560\n\u001b[0m  *(\u001b[91m::Union{AbstractChar, AbstractString}\u001b[39m, ::Union{AbstractChar, AbstractString}...) at strings/basic.jl:260\n\u001b[0m  *(::Real, \u001b[91m::StepRangeLen{var\"#s79\", var\"#s78\", S} where {var\"#s79\"<:Real, var\"#s78\"<:Base.TwicePrecision, S}\u001b[39m) at twiceprecision.jl:482\n\u001b[0m  ...",
     "output_type": "error",
     "traceback": [
      "MethodError: no method matching *(::Irrational{:π}, ::String)\n\u001b[0mClosest candidates are:\n\u001b[0m  *(::Any, ::Any, \u001b[91m::Any\u001b[39m, \u001b[91m::Any...\u001b[39m) at operators.jl:560\n\u001b[0m  *(\u001b[91m::Union{AbstractChar, AbstractString}\u001b[39m, ::Union{AbstractChar, AbstractString}...) at strings/basic.jl:260\n\u001b[0m  *(::Real, \u001b[91m::StepRangeLen{var\"#s79\", var\"#s78\", S} where {var\"#s79\"<:Real, var\"#s78\"<:Base.TwicePrecision, S}\u001b[39m) at twiceprecision.jl:482\n\u001b[0m  ...",
      "",
      "Stacktrace:",
      " [1] top-level scope",
      "   @ In[16]:1",
      " [2] eval",
      "   @ ./boot.jl:360 [inlined]",
      " [3] include_string(mapexpr::typeof(REPL.softscope), mod::Module, code::String, filename::String)",
      "   @ Base ./loading.jl:1094"
     ]
    }
   ],
   "source": [
    "π * message"
   ]
  },
  {
   "cell_type": "code",
   "execution_count": 25,
   "id": "13a03d49",
   "metadata": {},
   "outputs": [
    {
     "data": {
      "text/plain": [
       "\"π es irracional\""
      ]
     },
     "execution_count": 25,
     "metadata": {},
     "output_type": "execute_result"
    }
   ],
   "source": [
    "string(π,message)"
   ]
  },
  {
   "cell_type": "markdown",
   "id": "e78fde40",
   "metadata": {},
   "source": [
    "También podemos hacer interpolación de cadenas usando el simbolo de dinero $"
   ]
  },
  {
   "cell_type": "code",
   "execution_count": 24,
   "id": "6f52a43a",
   "metadata": {},
   "outputs": [
    {
     "data": {
      "text/plain": [
       "\"π  es irracional\""
      ]
     },
     "execution_count": 24,
     "metadata": {},
     "output_type": "execute_result"
    }
   ],
   "source": [
    "\"$π $message\""
   ]
  },
  {
   "cell_type": "markdown",
   "id": "48ce77b8",
   "metadata": {},
   "source": [
    "Con la interpolación podemos construir cadenas más complejas, al incluir operaciones o incluso funciones"
   ]
  },
  {
   "cell_type": "code",
   "execution_count": 31,
   "id": "e9577947",
   "metadata": {},
   "outputs": [
    {
     "data": {
      "text/plain": [
       "\"La raíz cuadrada de 64 es 8.0\""
      ]
     },
     "execution_count": 31,
     "metadata": {},
     "output_type": "execute_result"
    }
   ],
   "source": [
    "\"La raíz cuadrada de 64 es $(sqrt(64))\""
   ]
  },
  {
   "cell_type": "markdown",
   "id": "c6858ec6",
   "metadata": {},
   "source": [
    "Una funciones interesantes y útiles son las funciones de uppercase y las de lowercase, que convierten a una cadena en mayúscula o minúscula, otra también podría ser la de reverse, que invierte la cadena"
   ]
  },
  {
   "cell_type": "code",
   "execution_count": 7,
   "id": "108b9272",
   "metadata": {},
   "outputs": [
    {
     "data": {
      "text/plain": [
       "\"SALUDOS, rafael, leafaR\""
      ]
     },
     "execution_count": 7,
     "metadata": {},
     "output_type": "execute_result"
    }
   ],
   "source": [
    "\"$(uppercase(message)), $(lowercase(name)), $(reverse(name))\""
   ]
  },
  {
   "cell_type": "markdown",
   "id": "7f63e342",
   "metadata": {},
   "source": [
    "También es posible acceder a elementos de una cadena usando arreglos, en Julia los arreglos empiezan en el índice 1"
   ]
  },
  {
   "cell_type": "code",
   "execution_count": 9,
   "id": "eb0afb8f",
   "metadata": {},
   "outputs": [
    {
     "data": {
      "text/plain": [
       "'S': ASCII/Unicode U+0053 (category Lu: Letter, uppercase)"
      ]
     },
     "execution_count": 9,
     "metadata": {},
     "output_type": "execute_result"
    }
   ],
   "source": [
    "message[1]"
   ]
  },
  {
   "cell_type": "code",
   "execution_count": 11,
   "id": "5841c26d",
   "metadata": {},
   "outputs": [
    {
     "data": {
      "text/plain": [
       "Char"
      ]
     },
     "execution_count": 11,
     "metadata": {},
     "output_type": "execute_result"
    }
   ],
   "source": [
    "typeof(message[1])"
   ]
  },
  {
   "cell_type": "code",
   "execution_count": 12,
   "id": "71d01424",
   "metadata": {},
   "outputs": [
    {
     "data": {
      "text/plain": [
       "String"
      ]
     },
     "execution_count": 12,
     "metadata": {},
     "output_type": "execute_result"
    }
   ],
   "source": [
    "typeof(message[1:1])"
   ]
  },
  {
   "cell_type": "code",
   "execution_count": 13,
   "id": "741dd1b4",
   "metadata": {},
   "outputs": [
    {
     "data": {
      "text/plain": [
       "\"S\""
      ]
     },
     "execution_count": 13,
     "metadata": {},
     "output_type": "execute_result"
    }
   ],
   "source": [
    "message[1:1]"
   ]
  },
  {
   "cell_type": "markdown",
   "id": "9bd5649a",
   "metadata": {},
   "source": [
    "Esto es sorprendente verdad, pese a que se podría decir que son la mismo, el como se maneja cambia su tipo de dato"
   ]
  },
  {
   "cell_type": "markdown",
   "id": "d136a229",
   "metadata": {},
   "source": [
    "Al usar caracteres Unicode habrá que tener cuidado, ya que estos ocupan 2 bytes de memoria, entonces al trabajar cadenas como un arreglo habremos de recordar que ocupa el índice dónde lo encontramos y el que le sigue sin embargo no podremos acceder al segundo índice que lo compone, aunque eso también depende del caracter unicode, puede que ocupe más"
   ]
  },
  {
   "cell_type": "code",
   "execution_count": 27,
   "id": "94d49743",
   "metadata": {},
   "outputs": [
    {
     "data": {
      "text/plain": [
       "\"ໂa\""
      ]
     },
     "execution_count": 27,
     "metadata": {},
     "output_type": "execute_result"
    }
   ],
   "source": [
    "str = \"ໂa\""
   ]
  },
  {
   "cell_type": "code",
   "execution_count": 15,
   "id": "0ef28da3",
   "metadata": {},
   "outputs": [
    {
     "data": {
      "text/plain": [
       "'ໂ': Unicode U+0EC2 (category Lo: Letter, other)"
      ]
     },
     "execution_count": 15,
     "metadata": {},
     "output_type": "execute_result"
    }
   ],
   "source": [
    "str[1]"
   ]
  },
  {
   "cell_type": "code",
   "execution_count": 16,
   "id": "921d1dc3",
   "metadata": {},
   "outputs": [
    {
     "ename": "LoadError",
     "evalue": "StringIndexError: invalid index [2], valid nearby index [1]=>'ໂ'",
     "output_type": "error",
     "traceback": [
      "StringIndexError: invalid index [2], valid nearby index [1]=>'ໂ'",
      "",
      "Stacktrace:",
      " [1] getindex(s::String, i::Int64)",
      "   @ Base ./strings/string.jl:226",
      " [2] top-level scope",
      "   @ In[16]:1",
      " [3] eval",
      "   @ ./boot.jl:360 [inlined]",
      " [4] include_string(mapexpr::typeof(REPL.softscope), mod::Module, code::String, filename::String)",
      "   @ Base ./loading.jl:1094"
     ]
    }
   ],
   "source": [
    "str[2]"
   ]
  },
  {
   "cell_type": "code",
   "execution_count": 28,
   "id": "b899c266",
   "metadata": {},
   "outputs": [
    {
     "data": {
      "text/plain": [
       "4"
      ]
     },
     "execution_count": 28,
     "metadata": {},
     "output_type": "execute_result"
    }
   ],
   "source": [
    "sizeof(str)"
   ]
  },
  {
   "cell_type": "code",
   "execution_count": 30,
   "id": "39cd1dd0",
   "metadata": {},
   "outputs": [
    {
     "data": {
      "text/plain": [
       "\"Erich Kähler\""
      ]
     },
     "execution_count": 30,
     "metadata": {},
     "output_type": "execute_result"
    }
   ],
   "source": [
    "str = \"Erich Kähler\""
   ]
  },
  {
   "cell_type": "code",
   "execution_count": 19,
   "id": "327fd471",
   "metadata": {},
   "outputs": [
    {
     "data": {
      "text/plain": [
       "'ä': Unicode U+00E4 (category Ll: Letter, lowercase)"
      ]
     },
     "execution_count": 19,
     "metadata": {},
     "output_type": "execute_result"
    }
   ],
   "source": [
    "str[8]"
   ]
  },
  {
   "cell_type": "code",
   "execution_count": 20,
   "id": "55fd73ae",
   "metadata": {
    "scrolled": true
   },
   "outputs": [
    {
     "ename": "LoadError",
     "evalue": "StringIndexError: invalid index [9], valid nearby indices [8]=>'ä', [10]=>'h'",
     "output_type": "error",
     "traceback": [
      "StringIndexError: invalid index [9], valid nearby indices [8]=>'ä', [10]=>'h'",
      "",
      "Stacktrace:",
      " [1] getindex(s::String, i::Int64)",
      "   @ Base ./strings/string.jl:226",
      " [2] top-level scope",
      "   @ In[20]:1",
      " [3] eval",
      "   @ ./boot.jl:360 [inlined]",
      " [4] include_string(mapexpr::typeof(REPL.softscope), mod::Module, code::String, filename::String)",
      "   @ Base ./loading.jl:1094"
     ]
    }
   ],
   "source": [
    "str[9]"
   ]
  },
  {
   "cell_type": "code",
   "execution_count": 26,
   "id": "2e9502f3",
   "metadata": {},
   "outputs": [
    {
     "data": {
      "text/plain": [
       "'h': ASCII/Unicode U+0068 (category Ll: Letter, lowercase)"
      ]
     },
     "execution_count": 26,
     "metadata": {},
     "output_type": "execute_result"
    }
   ],
   "source": [
    "str[10]"
   ]
  },
  {
   "cell_type": "code",
   "execution_count": 21,
   "id": "c68150e6",
   "metadata": {},
   "outputs": [
    {
     "data": {
      "text/plain": [
       "13"
      ]
     },
     "execution_count": 21,
     "metadata": {},
     "output_type": "execute_result"
    }
   ],
   "source": [
    "sizeof(str)"
   ]
  },
  {
   "cell_type": "markdown",
   "id": "26da5974",
   "metadata": {},
   "source": [
    "También podemos recorrer la cadena usando un ciclo"
   ]
  },
  {
   "cell_type": "code",
   "execution_count": 31,
   "id": "69480a5c",
   "metadata": {},
   "outputs": [
    {
     "name": "stdout",
     "output_type": "stream",
     "text": [
      "E\n",
      "r\n",
      "i\n",
      "c\n",
      "h\n",
      " \n",
      "K\n",
      "ä\n",
      "h\n",
      "l\n",
      "e\n",
      "r\n"
     ]
    }
   ],
   "source": [
    "for s in str\n",
    "    println(s)\n",
    "end"
   ]
  },
  {
   "cell_type": "code",
   "execution_count": 32,
   "id": "f240660c",
   "metadata": {},
   "outputs": [
    {
     "data": {
      "text/plain": [
       "12"
      ]
     },
     "execution_count": 32,
     "metadata": {},
     "output_type": "execute_result"
    }
   ],
   "source": [
    "length(str)"
   ]
  },
  {
   "cell_type": "markdown",
   "id": "30046d9b",
   "metadata": {},
   "source": [
    "Recordar que el tamaño de la cadena no es lo mismo que la cantidad de caracteres, lenght nos dice la cantidad de caracteres meintras que sizeof el tamaño en bytes que ocupa en memoria"
   ]
  },
  {
   "cell_type": "code",
   "execution_count": 33,
   "id": "60e4aba0",
   "metadata": {},
   "outputs": [
    {
     "data": {
      "text/plain": [
       "\"Erich Käh\""
      ]
     },
     "execution_count": 33,
     "metadata": {},
     "output_type": "execute_result"
    }
   ],
   "source": [
    "str[1:10]"
   ]
  },
  {
   "cell_type": "code",
   "execution_count": 37,
   "id": "a73e063c",
   "metadata": {},
   "outputs": [
    {
     "data": {
      "text/plain": [
       "\"Kähler\""
      ]
     },
     "execution_count": 37,
     "metadata": {},
     "output_type": "execute_result"
    }
   ],
   "source": [
    "str[end-6:end]"
   ]
  },
  {
   "cell_type": "markdown",
   "id": "7d208e2a",
   "metadata": {},
   "source": [
    "end nos sirve para ir al final de la cadena"
   ]
  },
  {
   "cell_type": "code",
   "execution_count": null,
   "id": "0413b944",
   "metadata": {},
   "outputs": [],
   "source": []
  }
 ],
 "metadata": {
  "kernelspec": {
   "display_name": "Julia 1.6.1",
   "language": "julia",
   "name": "julia-1.6"
  },
  "language_info": {
   "file_extension": ".jl",
   "mimetype": "application/julia",
   "name": "julia",
   "version": "1.6.1"
  }
 },
 "nbformat": 4,
 "nbformat_minor": 5
}
